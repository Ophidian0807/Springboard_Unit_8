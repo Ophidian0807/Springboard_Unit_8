{
 "cells": [
  {
   "cell_type": "markdown",
   "metadata": {},
   "source": [
    "# Inferential Statistics Ia - Frequentism"
   ]
  },
  {
   "cell_type": "markdown",
   "metadata": {},
   "source": [
    "## Learning objectives"
   ]
  },
  {
   "cell_type": "markdown",
   "metadata": {},
   "source": [
    "Welcome to the first Frequentist inference mini-project! Over the course of working on this mini-project and the next frequentist mini-project, you'll learn the fundamental concepts associated with frequentist inference. The following list includes the topics you will become familiar with as you work through these two mini-projects:\n",
    "* the _z_-statistic\n",
    "* the _t_-statistic\n",
    "* the difference and relationship between the two\n",
    "* the Central Limit Theorem, including its assumptions and consequences\n",
    "* how to estimate the population mean and standard deviation from a sample\n",
    "* the concept of a sampling distribution of a test statistic, particularly for the mean\n",
    "* how to combine these concepts to calculate a confidence interval"
   ]
  },
  {
   "cell_type": "markdown",
   "metadata": {},
   "source": [
    "## Prerequisites"
   ]
  },
  {
   "cell_type": "markdown",
   "metadata": {},
   "source": [
    "For working through this notebook, you are expected to have a very basic understanding of:\n",
    "* what a random variable is\n",
    "* what a probability density function (pdf) is\n",
    "* what the cumulative density function is\n",
    "* a high-level sense of what the Normal distribution\n",
    "\n",
    "If these concepts are new to you, please take a few moments to Google these topics in order to get a sense of what they are and how you might use them.\n",
    "\n",
    "While it's great if you have previous knowledge about sampling distributions, this assignment will introduce the concept and set you up to practice working using sampling distributions. This notebook was designed to bridge the gap between having a basic understanding of probability and random variables and being able to apply these concepts in Python. The second frequentist inference mini-project focuses on a real-world application of this type of inference to give you further practice using these concepts. "
   ]
  },
  {
   "cell_type": "markdown",
   "metadata": {},
   "source": [
    "For this notebook, we will use data sampled from a known normal distribution. This allows us to compare our results with theoretical expectations."
   ]
  },
  {
   "cell_type": "markdown",
   "metadata": {},
   "source": [
    "## I An introduction to sampling from the Normal distribution"
   ]
  },
  {
   "cell_type": "markdown",
   "metadata": {},
   "source": [
    "First, let's explore the ways we can generate the Normal distribution. While there's a fair amount of interest in [sklearn](https://scikit-learn.org/stable/) within the machine learning community, you're likely to have heard of [scipy](https://docs.scipy.org/doc/scipy-0.15.1/reference/index.html) if you're coming from the sciences. For this assignment, you'll use [scipy.stats](https://docs.scipy.org/doc/scipy-0.15.1/reference/tutorial/stats.html) to complete your work."
   ]
  },
  {
   "cell_type": "code",
   "execution_count": 4,
   "metadata": {},
   "outputs": [],
   "source": [
    "from scipy.stats import norm\n",
    "from scipy.stats import t\n",
    "import numpy as np\n",
    "import pandas as pd\n",
    "from numpy.random import seed\n",
    "import matplotlib.pyplot as plt"
   ]
  },
  {
   "cell_type": "markdown",
   "metadata": {},
   "source": [
    "__Q:__ Call up the documentation for the `norm` function imported above. What is the second listed method?"
   ]
  },
  {
   "cell_type": "code",
   "execution_count": 5,
   "metadata": {},
   "outputs": [
    {
     "name": "stdout",
     "output_type": "stream",
     "text": [
      "Help on norm_gen in module scipy.stats._continuous_distns object:\n",
      "\n",
      "class norm_gen(scipy.stats._distn_infrastructure.rv_continuous)\n",
      " |  norm_gen(momtype=1, a=None, b=None, xtol=1e-14, badvalue=None, name=None, longname=None, shapes=None, extradoc=None, seed=None)\n",
      " |  \n",
      " |  A normal continuous random variable.\n",
      " |  \n",
      " |  The location (``loc``) keyword specifies the mean.\n",
      " |  The scale (``scale``) keyword specifies the standard deviation.\n",
      " |  \n",
      " |  %(before_notes)s\n",
      " |  \n",
      " |  Notes\n",
      " |  -----\n",
      " |  The probability density function for `norm` is:\n",
      " |  \n",
      " |  .. math::\n",
      " |  \n",
      " |      f(x) = \\frac{\\exp(-x^2/2)}{\\sqrt{2\\pi}}\n",
      " |  \n",
      " |  for a real number :math:`x`.\n",
      " |  \n",
      " |  %(after_notes)s\n",
      " |  \n",
      " |  %(example)s\n",
      " |  \n",
      " |  Method resolution order:\n",
      " |      norm_gen\n",
      " |      scipy.stats._distn_infrastructure.rv_continuous\n",
      " |      scipy.stats._distn_infrastructure.rv_generic\n",
      " |      builtins.object\n",
      " |  \n",
      " |  Methods defined here:\n",
      " |  \n",
      " |  fit(self, data, **kwds)\n",
      " |      Return MLEs for shape (if applicable), location, and scale\n",
      " |      parameters from data.\n",
      " |      \n",
      " |      MLE stands for Maximum Likelihood Estimate.  Starting estimates for\n",
      " |      the fit are given by input arguments; for any arguments not provided\n",
      " |      with starting estimates, ``self._fitstart(data)`` is called to generate\n",
      " |      such.\n",
      " |      \n",
      " |      One can hold some parameters fixed to specific values by passing in\n",
      " |      keyword arguments ``f0``, ``f1``, ..., ``fn`` (for shape parameters)\n",
      " |      and ``floc`` and ``fscale`` (for location and scale parameters,\n",
      " |      respectively).\n",
      " |      \n",
      " |      Parameters\n",
      " |      ----------\n",
      " |      data : array_like\n",
      " |          Data to use in calculating the MLEs.\n",
      " |      args : floats, optional\n",
      " |          Starting value(s) for any shape-characterizing arguments (those not\n",
      " |          provided will be determined by a call to ``_fitstart(data)``).\n",
      " |          No default value.\n",
      " |      kwds : floats, optional\n",
      " |          Starting values for the location and scale parameters; no default.\n",
      " |          Special keyword arguments are recognized as holding certain\n",
      " |          parameters fixed:\n",
      " |      \n",
      " |          - f0...fn : hold respective shape parameters fixed.\n",
      " |            Alternatively, shape parameters to fix can be specified by name.\n",
      " |            For example, if ``self.shapes == \"a, b\"``, ``fa``and ``fix_a``\n",
      " |            are equivalent to ``f0``, and ``fb`` and ``fix_b`` are\n",
      " |            equivalent to ``f1``.\n",
      " |      \n",
      " |          - floc : hold location parameter fixed to specified value.\n",
      " |      \n",
      " |          - fscale : hold scale parameter fixed to specified value.\n",
      " |      \n",
      " |          - optimizer : The optimizer to use.  The optimizer must take ``func``,\n",
      " |            and starting position as the first two arguments,\n",
      " |            plus ``args`` (for extra arguments to pass to the\n",
      " |            function to be optimized) and ``disp=0`` to suppress\n",
      " |            output as keyword arguments.\n",
      " |      \n",
      " |      Returns\n",
      " |      -------\n",
      " |      mle_tuple : tuple of floats\n",
      " |          MLEs for any shape parameters (if applicable), followed by those\n",
      " |          for location and scale. For most random variables, shape statistics\n",
      " |          will be returned, but there are exceptions (e.g. ``norm``).\n",
      " |      \n",
      " |      Notes\n",
      " |      -----\n",
      " |      This function uses explicit formulas for the maximum likelihood\n",
      " |      estimation of the normal distribution parameters, so the\n",
      " |      `optimizer` argument is ignored.\n",
      " |      \n",
      " |      Examples\n",
      " |      --------\n",
      " |      \n",
      " |      Generate some data to fit: draw random variates from the `beta`\n",
      " |      distribution\n",
      " |      \n",
      " |      >>> from scipy.stats import beta\n",
      " |      >>> a, b = 1., 2.\n",
      " |      >>> x = beta.rvs(a, b, size=1000)\n",
      " |      \n",
      " |      Now we can fit all four parameters (``a``, ``b``, ``loc`` and ``scale``):\n",
      " |      \n",
      " |      >>> a1, b1, loc1, scale1 = beta.fit(x)\n",
      " |      \n",
      " |      We can also use some prior knowledge about the dataset: let's keep\n",
      " |      ``loc`` and ``scale`` fixed:\n",
      " |      \n",
      " |      >>> a1, b1, loc1, scale1 = beta.fit(x, floc=0, fscale=1)\n",
      " |      >>> loc1, scale1\n",
      " |      (0, 1)\n",
      " |      \n",
      " |      We can also keep shape parameters fixed by using ``f``-keywords. To\n",
      " |      keep the zero-th shape parameter ``a`` equal 1, use ``f0=1`` or,\n",
      " |      equivalently, ``fa=1``:\n",
      " |      \n",
      " |      >>> a1, b1, loc1, scale1 = beta.fit(x, fa=1, floc=0, fscale=1)\n",
      " |      >>> a1\n",
      " |      1\n",
      " |      \n",
      " |      Not all distributions return estimates for the shape parameters.\n",
      " |      ``norm`` for example just returns estimates for location and scale:\n",
      " |      \n",
      " |      >>> from scipy.stats import norm\n",
      " |      >>> x = norm.rvs(a, b, size=1000, random_state=123)\n",
      " |      >>> loc1, scale1 = norm.fit(x)\n",
      " |      >>> loc1, scale1\n",
      " |      (0.92087172783841631, 2.0015750750324668)\n",
      " |  \n",
      " |  ----------------------------------------------------------------------\n",
      " |  Methods inherited from scipy.stats._distn_infrastructure.rv_continuous:\n",
      " |  \n",
      " |  __init__(self, momtype=1, a=None, b=None, xtol=1e-14, badvalue=None, name=None, longname=None, shapes=None, extradoc=None, seed=None)\n",
      " |      Initialize self.  See help(type(self)) for accurate signature.\n",
      " |  \n",
      " |  cdf(self, x, *args, **kwds)\n",
      " |      Cumulative distribution function of the given RV.\n",
      " |      \n",
      " |      Parameters\n",
      " |      ----------\n",
      " |      x : array_like\n",
      " |          quantiles\n",
      " |      arg1, arg2, arg3,... : array_like\n",
      " |          The shape parameter(s) for the distribution (see docstring of the\n",
      " |          instance object for more information)\n",
      " |      loc : array_like, optional\n",
      " |          location parameter (default=0)\n",
      " |      scale : array_like, optional\n",
      " |          scale parameter (default=1)\n",
      " |      \n",
      " |      Returns\n",
      " |      -------\n",
      " |      cdf : ndarray\n",
      " |          Cumulative distribution function evaluated at `x`\n",
      " |  \n",
      " |  expect(self, func=None, args=(), loc=0, scale=1, lb=None, ub=None, conditional=False, **kwds)\n",
      " |      Calculate expected value of a function with respect to the\n",
      " |      distribution by numerical integration.\n",
      " |      \n",
      " |      The expected value of a function ``f(x)`` with respect to a\n",
      " |      distribution ``dist`` is defined as::\n",
      " |      \n",
      " |                  ub\n",
      " |          E[f(x)] = Integral(f(x) * dist.pdf(x)),\n",
      " |                  lb\n",
      " |      \n",
      " |      where ``ub`` and ``lb`` are arguments and ``x`` has the ``dist.pdf(x)``\n",
      " |      distribution. If the bounds ``lb`` and ``ub`` correspond to the\n",
      " |      support of the distribution, e.g. ``[-inf, inf]`` in the default\n",
      " |      case, then the integral is the unrestricted expectation of ``f(x)``.\n",
      " |      Also, the function ``f(x)`` may be defined such that ``f(x)`` is ``0``\n",
      " |      outside a finite interval in which case the expectation is\n",
      " |      calculated within the finite range ``[lb, ub]``.\n",
      " |      \n",
      " |      Parameters\n",
      " |      ----------\n",
      " |      func : callable, optional\n",
      " |          Function for which integral is calculated. Takes only one argument.\n",
      " |          The default is the identity mapping f(x) = x.\n",
      " |      args : tuple, optional\n",
      " |          Shape parameters of the distribution.\n",
      " |      loc : float, optional\n",
      " |          Location parameter (default=0).\n",
      " |      scale : float, optional\n",
      " |          Scale parameter (default=1).\n",
      " |      lb, ub : scalar, optional\n",
      " |          Lower and upper bound for integration. Default is set to the\n",
      " |          support of the distribution.\n",
      " |      conditional : bool, optional\n",
      " |          If True, the integral is corrected by the conditional probability\n",
      " |          of the integration interval.  The return value is the expectation\n",
      " |          of the function, conditional on being in the given interval.\n",
      " |          Default is False.\n",
      " |      \n",
      " |      Additional keyword arguments are passed to the integration routine.\n",
      " |      \n",
      " |      Returns\n",
      " |      -------\n",
      " |      expect : float\n",
      " |          The calculated expected value.\n",
      " |      \n",
      " |      Notes\n",
      " |      -----\n",
      " |      The integration behavior of this function is inherited from\n",
      " |      `scipy.integrate.quad`. Neither this function nor\n",
      " |      `scipy.integrate.quad` can verify whether the integral exists or is\n",
      " |      finite. For example ``cauchy(0).mean()`` returns ``np.nan`` and\n",
      " |      ``cauchy(0).expect()`` returns ``0.0``.\n",
      " |      \n",
      " |      Examples\n",
      " |      --------\n",
      " |      \n",
      " |      To understand the effect of the bounds of integration consider\n",
      " |      \n",
      " |      >>> from scipy.stats import expon\n",
      " |      >>> expon(1).expect(lambda x: 1, lb=0.0, ub=2.0)\n",
      " |      0.6321205588285578\n",
      " |      \n",
      " |      This is close to\n",
      " |      \n",
      " |      >>> expon(1).cdf(2.0) - expon(1).cdf(0.0)\n",
      " |      0.6321205588285577\n",
      " |      \n",
      " |      If ``conditional=True``\n",
      " |      \n",
      " |      >>> expon(1).expect(lambda x: 1, lb=0.0, ub=2.0, conditional=True)\n",
      " |      1.0000000000000002\n",
      " |      \n",
      " |      The slight deviation from 1 is due to numerical integration.\n",
      " |  \n",
      " |  fit_loc_scale(self, data, *args)\n",
      " |      Estimate loc and scale parameters from data using 1st and 2nd moments.\n",
      " |      \n",
      " |      Parameters\n",
      " |      ----------\n",
      " |      data : array_like\n",
      " |          Data to fit.\n",
      " |      arg1, arg2, arg3,... : array_like\n",
      " |          The shape parameter(s) for the distribution (see docstring of the\n",
      " |          instance object for more information).\n",
      " |      \n",
      " |      Returns\n",
      " |      -------\n",
      " |      Lhat : float\n",
      " |          Estimated location parameter for the data.\n",
      " |      Shat : float\n",
      " |          Estimated scale parameter for the data.\n",
      " |  \n",
      " |  isf(self, q, *args, **kwds)\n",
      " |      Inverse survival function (inverse of `sf`) at q of the given RV.\n",
      " |      \n",
      " |      Parameters\n",
      " |      ----------\n",
      " |      q : array_like\n",
      " |          upper tail probability\n",
      " |      arg1, arg2, arg3,... : array_like\n",
      " |          The shape parameter(s) for the distribution (see docstring of the\n",
      " |          instance object for more information)\n",
      " |      loc : array_like, optional\n",
      " |          location parameter (default=0)\n",
      " |      scale : array_like, optional\n",
      " |          scale parameter (default=1)\n",
      " |      \n",
      " |      Returns\n",
      " |      -------\n",
      " |      x : ndarray or scalar\n",
      " |          Quantile corresponding to the upper tail probability q.\n",
      " |  \n",
      " |  logcdf(self, x, *args, **kwds)\n",
      " |      Log of the cumulative distribution function at x of the given RV.\n",
      " |      \n",
      " |      Parameters\n",
      " |      ----------\n",
      " |      x : array_like\n",
      " |          quantiles\n",
      " |      arg1, arg2, arg3,... : array_like\n",
      " |          The shape parameter(s) for the distribution (see docstring of the\n",
      " |          instance object for more information)\n",
      " |      loc : array_like, optional\n",
      " |          location parameter (default=0)\n",
      " |      scale : array_like, optional\n",
      " |          scale parameter (default=1)\n",
      " |      \n",
      " |      Returns\n",
      " |      -------\n",
      " |      logcdf : array_like\n",
      " |          Log of the cumulative distribution function evaluated at x\n",
      " |  \n",
      " |  logpdf(self, x, *args, **kwds)\n",
      " |      Log of the probability density function at x of the given RV.\n",
      " |      \n",
      " |      This uses a more numerically accurate calculation if available.\n",
      " |      \n",
      " |      Parameters\n",
      " |      ----------\n",
      " |      x : array_like\n",
      " |          quantiles\n",
      " |      arg1, arg2, arg3,... : array_like\n",
      " |          The shape parameter(s) for the distribution (see docstring of the\n",
      " |          instance object for more information)\n",
      " |      loc : array_like, optional\n",
      " |          location parameter (default=0)\n",
      " |      scale : array_like, optional\n",
      " |          scale parameter (default=1)\n",
      " |      \n",
      " |      Returns\n",
      " |      -------\n",
      " |      logpdf : array_like\n",
      " |          Log of the probability density function evaluated at x\n",
      " |  \n",
      " |  logsf(self, x, *args, **kwds)\n",
      " |      Log of the survival function of the given RV.\n",
      " |      \n",
      " |      Returns the log of the \"survival function,\" defined as (1 - `cdf`),\n",
      " |      evaluated at `x`.\n",
      " |      \n",
      " |      Parameters\n",
      " |      ----------\n",
      " |      x : array_like\n",
      " |          quantiles\n",
      " |      arg1, arg2, arg3,... : array_like\n",
      " |          The shape parameter(s) for the distribution (see docstring of the\n",
      " |          instance object for more information)\n",
      " |      loc : array_like, optional\n",
      " |          location parameter (default=0)\n",
      " |      scale : array_like, optional\n",
      " |          scale parameter (default=1)\n",
      " |      \n",
      " |      Returns\n",
      " |      -------\n",
      " |      logsf : ndarray\n",
      " |          Log of the survival function evaluated at `x`.\n",
      " |  \n",
      " |  nnlf(self, theta, x)\n",
      " |      Return negative loglikelihood function.\n",
      " |      \n",
      " |      Notes\n",
      " |      -----\n",
      " |      This is ``-sum(log pdf(x, theta), axis=0)`` where `theta` are the\n",
      " |      parameters (including loc and scale).\n",
      " |  \n",
      " |  pdf(self, x, *args, **kwds)\n",
      " |      Probability density function at x of the given RV.\n",
      " |      \n",
      " |      Parameters\n",
      " |      ----------\n",
      " |      x : array_like\n",
      " |          quantiles\n",
      " |      arg1, arg2, arg3,... : array_like\n",
      " |          The shape parameter(s) for the distribution (see docstring of the\n",
      " |          instance object for more information)\n",
      " |      loc : array_like, optional\n",
      " |          location parameter (default=0)\n",
      " |      scale : array_like, optional\n",
      " |          scale parameter (default=1)\n",
      " |      \n",
      " |      Returns\n",
      " |      -------\n",
      " |      pdf : ndarray\n",
      " |          Probability density function evaluated at x\n",
      " |  \n",
      " |  ppf(self, q, *args, **kwds)\n",
      " |      Percent point function (inverse of `cdf`) at q of the given RV.\n",
      " |      \n",
      " |      Parameters\n",
      " |      ----------\n",
      " |      q : array_like\n",
      " |          lower tail probability\n",
      " |      arg1, arg2, arg3,... : array_like\n",
      " |          The shape parameter(s) for the distribution (see docstring of the\n",
      " |          instance object for more information)\n",
      " |      loc : array_like, optional\n",
      " |          location parameter (default=0)\n",
      " |      scale : array_like, optional\n",
      " |          scale parameter (default=1)\n",
      " |      \n",
      " |      Returns\n",
      " |      -------\n",
      " |      x : array_like\n",
      " |          quantile corresponding to the lower tail probability q.\n",
      " |  \n",
      " |  sf(self, x, *args, **kwds)\n",
      " |      Survival function (1 - `cdf`) at x of the given RV.\n",
      " |      \n",
      " |      Parameters\n",
      " |      ----------\n",
      " |      x : array_like\n",
      " |          quantiles\n",
      " |      arg1, arg2, arg3,... : array_like\n",
      " |          The shape parameter(s) for the distribution (see docstring of the\n",
      " |          instance object for more information)\n",
      " |      loc : array_like, optional\n",
      " |          location parameter (default=0)\n",
      " |      scale : array_like, optional\n",
      " |          scale parameter (default=1)\n",
      " |      \n",
      " |      Returns\n",
      " |      -------\n",
      " |      sf : array_like\n",
      " |          Survival function evaluated at x\n",
      " |  \n",
      " |  ----------------------------------------------------------------------\n",
      " |  Methods inherited from scipy.stats._distn_infrastructure.rv_generic:\n",
      " |  \n",
      " |  __call__(self, *args, **kwds)\n",
      " |      Freeze the distribution for the given arguments.\n",
      " |      \n",
      " |      Parameters\n",
      " |      ----------\n",
      " |      arg1, arg2, arg3,... : array_like\n",
      " |          The shape parameter(s) for the distribution.  Should include all\n",
      " |          the non-optional arguments, may include ``loc`` and ``scale``.\n",
      " |      \n",
      " |      Returns\n",
      " |      -------\n",
      " |      rv_frozen : rv_frozen instance\n",
      " |          The frozen distribution.\n",
      " |  \n",
      " |  __getstate__(self)\n",
      " |  \n",
      " |  __setstate__(self, state)\n",
      " |  \n",
      " |  entropy(self, *args, **kwds)\n",
      " |      Differential entropy of the RV.\n",
      " |      \n",
      " |      Parameters\n",
      " |      ----------\n",
      " |      arg1, arg2, arg3,... : array_like\n",
      " |          The shape parameter(s) for the distribution (see docstring of the\n",
      " |          instance object for more information).\n",
      " |      loc : array_like, optional\n",
      " |          Location parameter (default=0).\n",
      " |      scale : array_like, optional  (continuous distributions only).\n",
      " |          Scale parameter (default=1).\n",
      " |      \n",
      " |      Notes\n",
      " |      -----\n",
      " |      Entropy is defined base `e`:\n",
      " |      \n",
      " |      >>> drv = rv_discrete(values=((0, 1), (0.5, 0.5)))\n",
      " |      >>> np.allclose(drv.entropy(), np.log(2.0))\n",
      " |      True\n",
      " |  \n",
      " |  freeze(self, *args, **kwds)\n",
      " |      Freeze the distribution for the given arguments.\n",
      " |      \n",
      " |      Parameters\n",
      " |      ----------\n",
      " |      arg1, arg2, arg3,... : array_like\n",
      " |          The shape parameter(s) for the distribution.  Should include all\n",
      " |          the non-optional arguments, may include ``loc`` and ``scale``.\n",
      " |      \n",
      " |      Returns\n",
      " |      -------\n",
      " |      rv_frozen : rv_frozen instance\n",
      " |          The frozen distribution.\n",
      " |  \n",
      " |  interval(self, alpha, *args, **kwds)\n",
      " |      Confidence interval with equal areas around the median.\n",
      " |      \n",
      " |      Parameters\n",
      " |      ----------\n",
      " |      alpha : array_like of float\n",
      " |          Probability that an rv will be drawn from the returned range.\n",
      " |          Each value should be in the range [0, 1].\n",
      " |      arg1, arg2, ... : array_like\n",
      " |          The shape parameter(s) for the distribution (see docstring of the\n",
      " |          instance object for more information).\n",
      " |      loc : array_like, optional\n",
      " |          location parameter, Default is 0.\n",
      " |      scale : array_like, optional\n",
      " |          scale parameter, Default is 1.\n",
      " |      \n",
      " |      Returns\n",
      " |      -------\n",
      " |      a, b : ndarray of float\n",
      " |          end-points of range that contain ``100 * alpha %`` of the rv's\n",
      " |          possible values.\n",
      " |  \n",
      " |  mean(self, *args, **kwds)\n",
      " |      Mean of the distribution.\n",
      " |      \n",
      " |      Parameters\n",
      " |      ----------\n",
      " |      arg1, arg2, arg3,... : array_like\n",
      " |          The shape parameter(s) for the distribution (see docstring of the\n",
      " |          instance object for more information)\n",
      " |      loc : array_like, optional\n",
      " |          location parameter (default=0)\n",
      " |      scale : array_like, optional\n",
      " |          scale parameter (default=1)\n",
      " |      \n",
      " |      Returns\n",
      " |      -------\n",
      " |      mean : float\n",
      " |          the mean of the distribution\n",
      " |  \n",
      " |  median(self, *args, **kwds)\n",
      " |      Median of the distribution.\n",
      " |      \n",
      " |      Parameters\n",
      " |      ----------\n",
      " |      arg1, arg2, arg3,... : array_like\n",
      " |          The shape parameter(s) for the distribution (see docstring of the\n",
      " |          instance object for more information)\n",
      " |      loc : array_like, optional\n",
      " |          Location parameter, Default is 0.\n",
      " |      scale : array_like, optional\n",
      " |          Scale parameter, Default is 1.\n",
      " |      \n",
      " |      Returns\n",
      " |      -------\n",
      " |      median : float\n",
      " |          The median of the distribution.\n",
      " |      \n",
      " |      See Also\n",
      " |      --------\n",
      " |      rv_discrete.ppf\n",
      " |          Inverse of the CDF\n",
      " |  \n",
      " |  moment(self, n, *args, **kwds)\n",
      " |      n-th order non-central moment of distribution.\n",
      " |      \n",
      " |      Parameters\n",
      " |      ----------\n",
      " |      n : int, n >= 1\n",
      " |          Order of moment.\n",
      " |      arg1, arg2, arg3,... : float\n",
      " |          The shape parameter(s) for the distribution (see docstring of the\n",
      " |          instance object for more information).\n",
      " |      loc : array_like, optional\n",
      " |          location parameter (default=0)\n",
      " |      scale : array_like, optional\n",
      " |          scale parameter (default=1)\n",
      " |  \n",
      " |  rvs(self, *args, **kwds)\n",
      " |      Random variates of given type.\n",
      " |      \n",
      " |      Parameters\n",
      " |      ----------\n",
      " |      arg1, arg2, arg3,... : array_like\n",
      " |          The shape parameter(s) for the distribution (see docstring of the\n",
      " |          instance object for more information).\n",
      " |      loc : array_like, optional\n",
      " |          Location parameter (default=0).\n",
      " |      scale : array_like, optional\n",
      " |          Scale parameter (default=1).\n",
      " |      size : int or tuple of ints, optional\n",
      " |          Defining number of random variates (default is 1).\n",
      " |      random_state : None or int or ``np.random.RandomState`` instance, optional\n",
      " |          If int or RandomState, use it for drawing the random variates.\n",
      " |          If None, rely on ``self.random_state``.\n",
      " |          Default is None.\n",
      " |      \n",
      " |      Returns\n",
      " |      -------\n",
      " |      rvs : ndarray or scalar\n",
      " |          Random variates of given `size`.\n",
      " |  \n",
      " |  stats(self, *args, **kwds)\n",
      " |      Some statistics of the given RV.\n",
      " |      \n",
      " |      Parameters\n",
      " |      ----------\n",
      " |      arg1, arg2, arg3,... : array_like\n",
      " |          The shape parameter(s) for the distribution (see docstring of the\n",
      " |          instance object for more information)\n",
      " |      loc : array_like, optional\n",
      " |          location parameter (default=0)\n",
      " |      scale : array_like, optional (continuous RVs only)\n",
      " |          scale parameter (default=1)\n",
      " |      moments : str, optional\n",
      " |          composed of letters ['mvsk'] defining which moments to compute:\n",
      " |          'm' = mean,\n",
      " |          'v' = variance,\n",
      " |          's' = (Fisher's) skew,\n",
      " |          'k' = (Fisher's) kurtosis.\n",
      " |          (default is 'mv')\n",
      " |      \n",
      " |      Returns\n",
      " |      -------\n",
      " |      stats : sequence\n",
      " |          of requested moments.\n",
      " |  \n",
      " |  std(self, *args, **kwds)\n",
      " |      Standard deviation of the distribution.\n",
      " |      \n",
      " |      Parameters\n",
      " |      ----------\n",
      " |      arg1, arg2, arg3,... : array_like\n",
      " |          The shape parameter(s) for the distribution (see docstring of the\n",
      " |          instance object for more information)\n",
      " |      loc : array_like, optional\n",
      " |          location parameter (default=0)\n",
      " |      scale : array_like, optional\n",
      " |          scale parameter (default=1)\n",
      " |      \n",
      " |      Returns\n",
      " |      -------\n",
      " |      std : float\n",
      " |          standard deviation of the distribution\n",
      " |  \n",
      " |  support(self, *args, **kwargs)\n",
      " |      Return the support of the distribution.\n",
      " |      \n",
      " |      Parameters\n",
      " |      ----------\n",
      " |      arg1, arg2, ... : array_like\n",
      " |          The shape parameter(s) for the distribution (see docstring of the\n",
      " |          instance object for more information).\n",
      " |      loc : array_like, optional\n",
      " |          location parameter, Default is 0.\n",
      " |      scale : array_like, optional\n",
      " |          scale parameter, Default is 1.\n",
      " |      Returns\n",
      " |      -------\n",
      " |      a, b : float\n",
      " |          end-points of the distribution's support.\n",
      " |  \n",
      " |  var(self, *args, **kwds)\n",
      " |      Variance of the distribution.\n",
      " |      \n",
      " |      Parameters\n",
      " |      ----------\n",
      " |      arg1, arg2, arg3,... : array_like\n",
      " |          The shape parameter(s) for the distribution (see docstring of the\n",
      " |          instance object for more information)\n",
      " |      loc : array_like, optional\n",
      " |          location parameter (default=0)\n",
      " |      scale : array_like, optional\n",
      " |          scale parameter (default=1)\n",
      " |      \n",
      " |      Returns\n",
      " |      -------\n",
      " |      var : float\n",
      " |          the variance of the distribution\n",
      " |  \n",
      " |  ----------------------------------------------------------------------\n",
      " |  Data descriptors inherited from scipy.stats._distn_infrastructure.rv_generic:\n",
      " |  \n",
      " |  __dict__\n",
      " |      dictionary for instance variables (if defined)\n",
      " |  \n",
      " |  __weakref__\n",
      " |      list of weak references to the object (if defined)\n",
      " |  \n",
      " |  random_state\n",
      " |      Get or set the RandomState object for generating random variates.\n",
      " |      \n",
      " |      This can be either None or an existing RandomState object.\n",
      " |      \n",
      " |      If None (or np.random), use the RandomState singleton used by np.random.\n",
      " |      If already a RandomState instance, use it.\n",
      " |      If an int, use a new RandomState instance seeded with seed.\n",
      "\n"
     ]
    }
   ],
   "source": [
    "help(norm)"
   ]
  },
  {
   "cell_type": "markdown",
   "metadata": {},
   "source": [
    "__A:__  cdf(self, x, *args, **kwds)"
   ]
  },
  {
   "cell_type": "markdown",
   "metadata": {},
   "source": [
    "__Q:__ Use the method that generates random variates to draw five samples from the standard normal distribution."
   ]
  },
  {
   "cell_type": "markdown",
   "metadata": {},
   "source": [
    "__A:__ [-0.84800948  1.30590636  0.92420797  0.6404118  -1.05473698]"
   ]
  },
  {
   "cell_type": "code",
   "execution_count": 11,
   "metadata": {},
   "outputs": [
    {
     "name": "stdout",
     "output_type": "stream",
     "text": [
      "[-0.84800948  1.30590636  0.92420797  0.6404118  -1.05473698]\n"
     ]
    }
   ],
   "source": [
    "seed(47)\n",
    "# draw five samples here\n",
    "samples = np.random.normal(0,1, size = 5)\n",
    "print(samples)"
   ]
  },
  {
   "cell_type": "markdown",
   "metadata": {},
   "source": [
    "__Q:__ What is the mean of this sample? Is it exactly equal to the value you expected? Hint: the sample was drawn from the standard normal distribution."
   ]
  },
  {
   "cell_type": "markdown",
   "metadata": {},
   "source": [
    "__A:__ 0.19355593334131074. No, it's 0.20 different from the mean of a standard normal. The sample size is very small."
   ]
  },
  {
   "cell_type": "code",
   "execution_count": 13,
   "metadata": {},
   "outputs": [
    {
     "name": "stdout",
     "output_type": "stream",
     "text": [
      "0.19355593334131074\n"
     ]
    }
   ],
   "source": [
    "# Calculate and print the mean here, hint: use np.mean()\n",
    "sample_mu = np.mean(samples)\n",
    "print(sample_mu)"
   ]
  },
  {
   "cell_type": "markdown",
   "metadata": {},
   "source": [
    "__Q:__ What is the standard deviation of these numbers? Calculate this manually here as $\\sqrt{\\frac{\\sum_i(x_i - \\bar{x})^2}{n}}$. Hint: np.sqrt() and np.sum() will be useful here and remember that numpy supports [broadcasting](https://docs.scipy.org/doc/numpy/user/basics.broadcasting.html)."
   ]
  },
  {
   "cell_type": "markdown",
   "metadata": {},
   "source": [
    "__A:__ 0.9606195639478641"
   ]
  },
  {
   "cell_type": "code",
   "execution_count": 19,
   "metadata": {},
   "outputs": [
    {
     "name": "stdout",
     "output_type": "stream",
     "text": [
      "0.9606195639478641\n"
     ]
    }
   ],
   "source": [
    "sigma = np.sqrt(np.sum((samples - sample_mu)**2)/5)\n",
    "print(sigma)"
   ]
  },
  {
   "cell_type": "markdown",
   "metadata": {},
   "source": [
    "Here we have calculated the actual standard deviation of a small (size 5) data set. But in this case, this small data set is actually a sample from our larger (infinite) population. In this case, the population is infinite because we could keep drawing our normal random variates until our computers die. In general, the sample mean we calculate will not be equal to the population mean (as we saw above). A consequence of this is that the sum of squares of the deviations from the _population_ mean will be bigger than the sum of squares of the deviations from the _sample_ mean. In other words, the sum of squares of the deviations from the _sample_ mean is too small to give an unbiased estimate of the _population_ variance. An example of this effect is given [here](https://en.wikipedia.org/wiki/Bessel%27s_correction#Source_of_bias). Scaling our estimate of the variance by the factor $n/(n-1)$ gives an unbiased estimator of the population variance. This factor is known as [Bessel's correction](https://en.wikipedia.org/wiki/Bessel%27s_correction). The consequence of this is that the $n$ in the denominator is replaced by $n-1$.\n",
    "\n",
    "__Q:__ If all we had to go on was our five samples, what would be our best estimate of the population standard deviation? Use Bessel's correction ($n-1$ in the denominator), thus $\\sqrt{\\frac{\\sum_i(x_i - \\bar{x})^2}{n-1}}$."
   ]
  },
  {
   "cell_type": "markdown",
   "metadata": {},
   "source": [
    "__A:__1.0740053227518152"
   ]
  },
  {
   "cell_type": "code",
   "execution_count": 20,
   "metadata": {},
   "outputs": [
    {
     "name": "stdout",
     "output_type": "stream",
     "text": [
      "1.0740053227518152\n"
     ]
    }
   ],
   "source": [
    "sigma_sample = np.sqrt(np.sum((samples - sample_mu)**2)/4)\n",
    "print(sigma_sample)"
   ]
  },
  {
   "cell_type": "markdown",
   "metadata": {},
   "source": [
    "__Q:__ Now use numpy's std function to calculate the standard deviation of our random samples. Which of the above standard deviations did it return?"
   ]
  },
  {
   "cell_type": "markdown",
   "metadata": {},
   "source": [
    "__A:__"
   ]
  },
  {
   "cell_type": "code",
   "execution_count": 21,
   "metadata": {},
   "outputs": [
    {
     "name": "stdout",
     "output_type": "stream",
     "text": [
      "0.9606195639478641\n"
     ]
    }
   ],
   "source": [
    "np_std = np.std(samples)\n",
    "print(np_std)"
   ]
  },
  {
   "cell_type": "markdown",
   "metadata": {},
   "source": [
    "__Q:__ Consult the documentation for np.std() to see how to apply the correction for estimating the population parameter and verify this produces the expected result."
   ]
  },
  {
   "cell_type": "markdown",
   "metadata": {},
   "source": [
    "__A:__"
   ]
  },
  {
   "cell_type": "code",
   "execution_count": 22,
   "metadata": {},
   "outputs": [],
   "source": [
    "np.std?"
   ]
  },
  {
   "cell_type": "code",
   "execution_count": 24,
   "metadata": {},
   "outputs": [
    {
     "name": "stdout",
     "output_type": "stream",
     "text": [
      "1.0740053227518152\n"
     ]
    }
   ],
   "source": [
    "np_sample_std = np.sqrt(len(samples)*np_std**2/(len(samples)-1))\n",
    "print(np_sample_std)"
   ]
  },
  {
   "cell_type": "markdown",
   "metadata": {},
   "source": [
    "### Summary of section"
   ]
  },
  {
   "cell_type": "markdown",
   "metadata": {},
   "source": [
    "In this section, you've been introduced to the scipy.stats package and used it to draw a small sample from the standard normal distribution. You've calculated the average (the mean) of this sample and seen that this is not exactly equal to the expected population parameter (which we know because we're generating the random variates from a specific, known distribution). You've been introduced to two ways of calculating the standard deviation; one uses $n$ in the denominator and the other uses $n-1$ (Bessel's correction). You've also seen which of these calculations np.std() performs by default and how to get it to generate the other."
   ]
  },
  {
   "cell_type": "markdown",
   "metadata": {},
   "source": [
    "You use $n$ as the denominator if you want to calculate the standard deviation of a sequence of numbers. You use $n-1$ if you are using this sequence of numbers to estimate the population parameter. This brings us to some terminology that can be a little confusing.\n",
    "\n",
    "The population parameter is traditionally written as $\\sigma$ and the sample statistic as $s$. Rather unhelpfully, $s$ is also called the sample standard deviation (using $n-1$) whereas the standard deviation of the sample uses $n$. That's right, we have the sample standard deviation and the standard deviation of the sample and they're not the same thing!\n",
    "\n",
    "The sample standard deviation\n",
    "\\begin{equation}\n",
    "s = \\sqrt{\\frac{\\sum_i(x_i - \\bar{x})^2}{n-1}} \\approx \\sigma,\n",
    "\\end{equation}\n",
    "is our best (unbiased) estimate of the population parameter ($\\sigma$).\n",
    "\n",
    "If your data set _is_ your entire population, you simply want to calculate the population parameter, $\\sigma$, via\n",
    "\\begin{equation}\n",
    "\\sigma = \\sqrt{\\frac{\\sum_i(x_i - \\bar{x})^2}{n}}\n",
    "\\end{equation}\n",
    "as you have complete, full knowledge of your population. In other words, your sample _is_ your population. It's worth noting at this point if your sample is your population then you know absolutely everything about your population, there are no probabilities really to calculate and no inference to be done.\n",
    "\n",
    "If, however, you have sampled _from_ your population, you only have partial knowledge of the state of your population and the standard deviation of your sample is not an unbiased estimate of the standard deviation of the population, in which case you seek to estimate that population parameter via the sample standard deviation, which uses the $n-1$ denominator."
   ]
  },
  {
   "cell_type": "markdown",
   "metadata": {},
   "source": [
    "You're now firmly in frequentist theory territory. Great work so far! Now let's dive deeper."
   ]
  },
  {
   "cell_type": "markdown",
   "metadata": {},
   "source": [
    "## II Sampling distributions"
   ]
  },
  {
   "cell_type": "markdown",
   "metadata": {},
   "source": [
    "So far we've been dealing with the concept of taking a sample from a population to infer the population parameters. One statistic we calculated for a sample was the mean. As our samples will be expected to vary from one draw to another, so will our sample statistics. If we were to perform repeat draws of size $n$ and calculate the mean of each, we would expect to obtain a distribution of values. This is the sampling distribution of the mean. The Central Limit Theorem (CLT) tells us that such a distribution will approach a normal distribution as $n$ increases. For the sampling distribution of the mean, the standard deviation of this distribution is given by\n",
    "\n",
    "\\begin{equation}\n",
    "\\sigma_{mean} = \\frac{\\sigma}{\\sqrt n}\n",
    "\\end{equation}\n",
    "\n",
    "where $\\sigma_{mean}$ is the standard deviation of the sampling distribution of the mean and $\\sigma$ is the standard deviation of the population (the population parameter)."
   ]
  },
  {
   "cell_type": "markdown",
   "metadata": {},
   "source": [
    "This is important because typically we are dealing with samples from populations and all we know about the population is what we see in the sample. From this sample, we want to make inferences about the population. We may do this, for example, by looking at the histogram of the values and by calculating the mean and standard deviation (as estimates of the population parameters), and so we are intrinsically interested in how these quantities vary across samples. In other words, now that we've taken one sample of size $n$ and made some claims about the general population, what if we were to take another sample of size $n$? Would we get the same result? Would we make the same claims about the general population? This brings us to a fundamental question: _when we make some inference about a population based on our sample, how confident can we be that we've got it 'right'?_"
   ]
  },
  {
   "cell_type": "markdown",
   "metadata": {},
   "source": [
    "Let's give our normal distribution a little flavor. Also, for didactic purposes, the standard normal distribution, with its variance equal to its standard deviation of one, would not be a great illustration of a key point. Let us imagine we live in a town of 50000 people and we know the height of everyone in this town. We will have 50000 numbers that tell us everything about our population. We'll simulate these numbers now and put ourselves in one particular town, called 'town 47', where the population mean height is 172 cm and population standard deviation is 5 cm."
   ]
  },
  {
   "cell_type": "code",
   "execution_count": 34,
   "metadata": {},
   "outputs": [],
   "source": [
    "seed(47)\n",
    "pop_heights = norm.rvs(172, 5, size=50000)"
   ]
  },
  {
   "cell_type": "code",
   "execution_count": 35,
   "metadata": {},
   "outputs": [
    {
     "data": {
      "image/png": "[encoded data removed]",
      "text/plain": [
       "<Figure size 432x288 with 1 Axes>"
      ]
     },
     "metadata": {
      "needs_background": "light"
     },
     "output_type": "display_data"
    }
   ],
   "source": [
    "_ = plt.hist(pop_heights, bins=30)\n",
    "_ = plt.xlabel('height (cm)')\n",
    "_ = plt.ylabel('number of people')\n",
    "_ = plt.title('Distribution of heights in entire town population')\n",
    "_ = plt.axvline(172, color='r')\n",
    "_ = plt.axvline(172+5, color='r', linestyle='--')\n",
    "_ = plt.axvline(172-5, color='r', linestyle='--')\n",
    "_ = plt.axvline(172+10, color='r', linestyle='-.')\n",
    "_ = plt.axvline(172-10, color='r', linestyle='-.')"
   ]
  },
  {
   "cell_type": "markdown",
   "metadata": {},
   "source": [
    "Now, 50000 people is rather a lot to chase after with a tape measure. If all you want to know is the average height of the townsfolk, then can you just go out and measure a sample to get a pretty good estimate of the average height?"
   ]
  },
  {
   "cell_type": "code",
   "execution_count": 36,
   "metadata": {},
   "outputs": [],
   "source": [
    "def townsfolk_sampler(n):\n",
    "    return np.random.choice(pop_heights, n)"
   ]
  },
  {
   "cell_type": "markdown",
   "metadata": {},
   "source": [
    "Let's say you go out one day and randomly sample 10 people to measure."
   ]
  },
  {
   "cell_type": "code",
   "execution_count": 37,
   "metadata": {},
   "outputs": [],
   "source": [
    "seed(47)\n",
    "daily_sample1 = townsfolk_sampler(10)"
   ]
  },
  {
   "cell_type": "code",
   "execution_count": 38,
   "metadata": {},
   "outputs": [
    {
     "data": {
      "image/png": "[encoded data removed]",
      "text/plain": [
       "<Figure size 432x288 with 1 Axes>"
      ]
     },
     "metadata": {
      "needs_background": "light"
     },
     "output_type": "display_data"
    }
   ],
   "source": [
    "_ = plt.hist(daily_sample1, bins=10)\n",
    "_ = plt.xlabel('height (cm)')\n",
    "_ = plt.ylabel('number of people')\n",
    "_ = plt.title('Distribution of heights in sample size 10')"
   ]
  },
  {
   "cell_type": "markdown",
   "metadata": {},
   "source": [
    "The sample distribution doesn't look much like what we know (but wouldn't know in real-life) the population distribution looks like. What do we get for the mean?"
   ]
  },
  {
   "cell_type": "code",
   "execution_count": null,
   "metadata": {},
   "outputs": [],
   "source": []
  },
  {
   "cell_type": "code",
   "execution_count": 39,
   "metadata": {},
   "outputs": [
    {
     "data": {
      "text/plain": [
       "173.47911444163503"
      ]
     },
     "execution_count": 39,
     "metadata": {},
     "output_type": "execute_result"
    }
   ],
   "source": [
    "np.mean(daily_sample1)"
   ]
  },
  {
   "cell_type": "markdown",
   "metadata": {},
   "source": [
    "And if we went out and repeated this experiment?"
   ]
  },
  {
   "cell_type": "code",
   "execution_count": 40,
   "metadata": {},
   "outputs": [],
   "source": [
    "daily_sample2 = townsfolk_sampler(10)"
   ]
  },
  {
   "cell_type": "code",
   "execution_count": 41,
   "metadata": {},
   "outputs": [
    {
     "data": {
      "text/plain": [
       "173.7317666636263"
      ]
     },
     "execution_count": 41,
     "metadata": {},
     "output_type": "execute_result"
    }
   ],
   "source": [
    "np.mean(daily_sample2)"
   ]
  },
  {
   "cell_type": "markdown",
   "metadata": {},
   "source": [
    "__Q:__ Simulate performing this random trial every day for a year, calculating the mean of each daily sample of 10, and plot the resultant sampling distribution of the mean."
   ]
  },
  {
   "cell_type": "markdown",
   "metadata": {},
   "source": [
    "__A:__"
   ]
  },
  {
   "cell_type": "code",
   "execution_count": null,
   "metadata": {},
   "outputs": [],
   "source": []
  },
  {
   "cell_type": "code",
   "execution_count": 46,
   "metadata": {},
   "outputs": [
    {
     "name": "stdout",
     "output_type": "stream",
     "text": [
      "[173.7317666636263, 171.43257319553967, 172.82799509412092, 171.35684251559897, 175.02116165843373, 173.10695709894807, 172.16799412617846, 174.1148759511088, 173.53587661697912, 173.6192933521118, 169.8912622859572, 170.79777102526515, 174.04237966386012, 169.68751210980005, 170.50288822335273, 172.18184913764566, 171.0001004904461, 171.09020297014567, 172.10797845540236, 172.6513531230999, 169.97597644140453, 169.68001261485807, 172.55229420480956, 173.37568836233626, 171.6665742212276, 172.72984382291025, 171.9066883458138, 172.9549236584936, 171.62782407697222, 172.67107823125573, 171.5928923513852, 168.70526103039566, 172.99782989083792, 170.51072224889845, 170.15223960286718, 172.1247564115574, 169.418394777909, 173.349965975603, 170.95008031433505, 169.23740477644245, 170.24977041291908, 169.4954901013438, 170.63029872192917, 172.7564010423859, 172.75102003444198, 171.37511929823515, 175.6782843800554, 171.97617797193666, 171.50909868435141, 173.2095114832777, 173.14812711662768, 173.3757843013828, 169.68126101129226, 170.64933192553676, 171.55990939669806, 173.64455234145223, 171.4139294230426, 171.59077758086715, 172.21608501143896, 172.33599701625351, 173.3730965923039, 172.24280703841163, 175.03094575416975, 172.95723098557428, 172.86230119411863, 170.74391386736906, 174.516404929308, 172.8532356879273, 172.02699101055003, 174.4668408638607, 170.87326329719744, 174.06036645523105, 171.31020238919996, 169.00973760863025, 172.8394581127686, 167.94708299375463, 173.26676195725375, 169.3835107781193, 172.65881074097973, 174.48530539837125, 173.11587199242774, 174.05802462897157, 170.3850832762101, 171.28870072653964, 169.95471759650735, 172.6225511373559, 168.62332166556928, 171.82186352481727, 169.06595378147523, 174.9773349255948, 171.6730813592417, 173.43393215657332, 173.21556904620837, 171.20026812399502, 173.32428817479482, 169.74157082970493, 171.78081907440483, 171.87026079537708, 172.46488874903895, 174.46081103471732, 169.51557464300683, 170.7169353336031, 172.3849780185491, 172.66798523120897, 169.03388574785288, 171.6548397802826, 172.36666043469813, 170.5454321114398, 173.75734815005714, 173.93185477413437, 174.99259084185877, 171.51052052455086, 171.8830523292385, 171.91694787219325, 171.6125036310404, 173.09703321285585, 173.1671394346884, 173.93739863468136, 173.0648792145468, 172.74454332610662, 168.50440626366915, 168.22985199166658, 173.8223904901435, 171.7803289727296, 170.90044256609488, 172.0422309421312, 169.49895501607463, 173.3982671958468, 169.3434812632541, 170.59481340389107, 172.72334025117496, 169.01609630447473, 174.684931280434, 171.65686646102714, 170.72391555094927, 174.0926258645925, 171.60449755276952, 169.59524622005407, 173.43051530494725, 172.41542957870462, 175.73235560113446, 170.5016307174128, 172.921116303701, 173.15958685889186, 170.84177739176616, 174.23130175705404, 172.02085224658146, 173.12384811687497, 171.4714587067785, 172.85937740574727, 172.88433436767303, 172.27425697400423, 172.19296597942235, 172.32570464261443, 172.5216957174198, 168.8771648188222, 173.01149455582384, 169.7669347411906, 173.02223016664223, 171.18421420659692, 173.43258352486112, 170.92672944980677, 171.92871073981357, 169.05442315458353, 171.73522189318317, 172.29730173923366, 170.02830791269838, 170.766935167691, 169.92358516806348, 173.21890262201072, 172.91850748641357, 172.064319088991, 171.46079489790765, 172.59879898682084, 168.70639919115436, 171.6634185490236, 171.42827851034042, 169.17922506646468, 170.82035700816542, 172.02218170287054, 172.85589043208137, 170.45743937442882, 169.77272951693624, 170.6960612758563, 173.04791260122778, 173.64619368256777, 173.805650322271, 172.62088059001496, 171.8468264428882, 176.49675838373042, 172.10551649974528, 170.39959116344335, 169.36185785300663, 171.27098277198462, 174.48956313771137, 171.85932941226366, 173.03213487119928, 174.2359313932122, 169.7709496579064, 171.37604119351096, 173.82893735946988, 172.91674435129724, 172.50529989745237, 168.78828957696436, 170.3188483349238, 170.91152972186558, 172.16560225256458, 174.34622768262642, 171.96537934127838, 171.3386672200848, 171.67867745771247, 172.9604755025615, 170.67088848901238, 171.72246156008967, 169.7515937282509, 173.40339958858178, 171.52647515580958, 172.92813415671213, 168.6845805655018, 170.49007990404638, 174.80810038177623, 170.56305974791616, 174.40174978602462, 176.1447142660425, 170.3538843917456, 170.48528459539995, 171.26713554826685, 172.35570449751293, 170.029268847281, 171.0175828121557, 170.09415151876613, 171.68747516336262, 171.83676090597552, 172.306003832542, 173.49366426236162, 171.20618839399364, 170.59361723270962, 173.03992833149897, 171.09532916846462, 172.38178763189518, 169.40570172821558, 170.56676442829666, 171.5559495839138, 172.56626692257387, 170.05231108592983, 172.0954027849649, 173.05384351847144, 174.35129214673748, 170.87668523592572, 174.95066820418447, 172.18447562206694, 174.42078181122668, 171.77544641031992, 171.28024031211217, 172.7270650439238, 171.78703031825376, 171.15033383908843, 167.47973591137114, 171.05963415628003, 171.66067668872236, 171.49025759475663, 174.4284987926894, 172.51278250394927, 167.76314312813435, 175.45675598743347, 170.8187087941303, 174.74780596536664, 171.42241697674862, 172.27028513482006, 169.6497232620188, 171.38156940989148, 169.72809123700483, 169.81618216406005, 173.47052233127204, 174.04499280554296, 169.05395388982907, 172.62332637021217, 169.9041533150325, 170.66487360225844, 172.4066641527138, 172.2545289781135, 171.7695386727469, 172.7122246101647, 172.80966015560085, 170.99942154910747, 174.4138128650676, 172.2276739218085, 173.28290998712583, 174.50504750299905, 173.9094462010772, 173.53874071960212, 171.62895424716538, 174.77791162334555, 172.73212646695646, 171.0884490536075, 174.90744496260783, 173.14194440563915, 171.72062327685336, 172.02746282298796, 172.9474096540867, 174.70716838964404, 171.25688136080257, 171.32572179738298, 170.09232361892032, 171.54191916215387, 173.22051437864283, 169.1098066249588, 169.46546550342015, 172.18238733790366, 170.73987409150317, 169.62579721213814, 172.9535316945224, 172.87391539263, 172.6664057362206, 174.19750237964345, 174.93676882465485, 170.56496601232806, 172.59510839464042, 171.49372714846209, 173.65679347555252, 170.07482473299962, 171.43124463804517, 175.63202900810418, 172.45068767032564, 171.87134416306557, 171.26092815444832, 173.40528804486974, 170.3661411124565, 174.2181393095532, 171.94530138880518, 173.34479481306025, 172.01281199102067, 174.1088523163496, 173.34764982298594, 173.30090031589796, 174.36397618222475, 170.50800120354182, 172.98677362888475, 172.97483078435428, 174.41026019781876, 170.3757993217535, 171.66409102792704, 172.50780457995432, 172.3043921516659, 172.67652000484696, 171.96592485990286, 170.82036374276018, 171.717235090842, 172.87952686001643, 170.67972775215583, 170.03385688427616, 174.32359544772885, 173.18410634476885, 173.35991918177777, 171.2493106849701, 171.24213715338215, 172.45905772691236, 172.04845416017363, 173.88584614939208, 171.6743312617853, 170.5208048221964, 170.24376813823164, 172.06935813827732, 172.47721370507765, 174.24104870258057]\n"
     ]
    }
   ],
   "source": [
    "seed(47)\n",
    "# take your samples here\n",
    "\n",
    "daily_samples =[]\n",
    "daily_mean = []\n",
    "\n",
    "for i in range(365):\n",
    "    daily_samples.append(townsfolk_sampler(10))\n",
    "    daily_mean.append(np.mean(townsfolk_sampler(10))) \n",
    "\n",
    "print(daily_mean)"
   ]
  },
  {
   "cell_type": "code",
   "execution_count": 49,
   "metadata": {},
   "outputs": [
    {
     "data": {
      "image/png": "[encoded data removed]",
      "text/plain": [
       "<Figure size 432x288 with 1 Axes>"
      ]
     },
     "metadata": {
      "needs_background": "light"
     },
     "output_type": "display_data"
    }
   ],
   "source": [
    "daily_mean_h = plt.hist(daily_mean, bins = 25)\n",
    "daily_mean_h = plt.xlabel('distribution of mean')\n"
   ]
  },
  {
   "cell_type": "markdown",
   "metadata": {},
   "source": [
    "The above is the distribution of the means of samples of size 10 taken from our population. The Central Limit Theorem tells us the expected mean of this distribution will be equal to the population mean, and standard deviation will be $\\sigma / \\sqrt n$, which, in this case, should be approximately 1.58."
   ]
  },
  {
   "cell_type": "markdown",
   "metadata": {},
   "source": [
    "__Q:__ Verify the above results from the CLT."
   ]
  },
  {
   "cell_type": "markdown",
   "metadata": {},
   "source": [
    "__A:__"
   ]
  },
  {
   "cell_type": "code",
   "execution_count": 59,
   "metadata": {},
   "outputs": [
    {
     "name": "stdout",
     "output_type": "stream",
     "text": [
      "1.6392239962901713\n",
      "1.5662241558028602 1.6392239962901713\n"
     ]
    }
   ],
   "source": [
    "daily_mean_mu = np.mean(daily_mean)\n",
    "daily_mean_sigma = np.std(daily_mean)\n",
    "print(daily_mean_sigma)\n",
    "print(np.std(daily_samples)/np.sqrt(10), np.sqrt(np.sum((daily_mean-daily_mean_mu)**2)/365))\n"
   ]
  },
  {
   "cell_type": "code",
   "execution_count": null,
   "metadata": {},
   "outputs": [],
   "source": []
  },
  {
   "cell_type": "markdown",
   "metadata": {},
   "source": [
    "Remember, in this instance, we knew our population parameters, that the average height really is 172 cm and the standard deviation is 5 cm, and we see some of our daily estimates of the population mean were as low as around 168 and some as high as 176."
   ]
  },
  {
   "cell_type": "markdown",
   "metadata": {},
   "source": [
    "__Q:__ Repeat the above year's worth of samples but for a sample size of 50 (perhaps you had a bigger budget for conducting surveys that year!) Would you expect your distribution of sample means to be wider (more variable) or narrower (more consistent)? Compare your resultant summary statistics to those predicted by the CLT."
   ]
  },
  {
   "cell_type": "markdown",
   "metadata": {},
   "source": [
    "__A:__"
   ]
  },
  {
   "cell_type": "code",
   "execution_count": 60,
   "metadata": {},
   "outputs": [
    {
     "name": "stdout",
     "output_type": "stream",
     "text": [
      "[172.7815108576788, 172.79757492503552, 172.9396310954854, 173.3542075784445, 171.1485580390421, 171.27023338249884, 171.57773042798325, 171.63862815675472, 171.96210793335894, 172.66373830647717, 171.6615364799722, 171.88936776644812, 172.4205753053962, 170.68416081476462, 171.37644563516122, 170.89082919619474, 170.63167276488755, 171.84458610711957, 171.7056952443146, 172.0024093610841, 172.17533172997156, 171.66803383747916, 172.41006409365593, 172.03517066252826, 171.84810905850273, 173.29507939012166, 172.47483621040422, 172.24808622542724, 171.7349369252512, 171.0791666560747, 172.0718628174714, 171.56980924327706, 171.27134293407755, 171.10827182706282, 171.83147861260113, 172.64522968251705, 171.34184833161441, 171.67949207236762, 171.1656798606149, 172.50378182453488, 172.02347109882115, 171.98370176182962, 172.25788852831275, 172.66663634007872, 172.95172682262927, 171.6650208749629, 172.27647892611563, 172.56057396442372, 170.63814005426747, 171.2926075648261, 172.05628333087486, 171.63431334474822, 171.12226067877384, 172.0354775555923, 171.66181713847348, 172.74777937134553, 172.69973603545813, 171.7412662455689, 172.16291010361644, 172.0680786949149, 171.47146681665058, 171.45929053786557, 171.38381920550947, 170.74187931219902, 171.81481490446072, 171.1811454661782, 170.65765062531491, 172.48449628255221, 172.3626008744472, 171.3248233563762, 172.32157836257954, 171.3575146428834, 172.01230012182947, 171.45586797475937, 172.60832644769337, 172.90923064763888, 171.8232960400748, 172.02353512146678, 172.69244683833068, 172.5943354823301, 171.99559210545397, 170.88697444561848, 171.1287369020899, 173.3049050979804, 172.69005486736165, 171.31418515136443, 171.93620537662483, 170.84661950770945, 171.9420815386141, 172.7083537460361, 172.1068195680666, 172.08204873872012, 172.0857165025829, 172.28737626070964, 172.04409392625038, 171.72714932124234, 171.6108994453248, 171.40343323871966, 172.30606391429757, 173.14332165770466, 172.27657327770484, 171.86275141603662, 171.50224664098383, 170.07952858877113, 172.5189009341571, 171.22251422041813, 172.67348326757946, 171.3293814179121, 171.00380509699332, 172.04855887469952, 172.35372679227385, 170.67921568704617, 172.99986959212052, 172.26329470364595, 172.0372815194926, 172.35291480579843, 172.11903049105516, 172.0066044678251, 172.46448231204985, 172.4842815283576, 173.0169980361144, 170.89881785435747, 171.42254596527545, 171.37289809789033, 171.2414752854563, 172.86603311439686, 172.39453776258665, 171.30716428108641, 171.4019540281487, 172.76196180965368, 172.32905324065024, 172.3554490722028, 172.5489706719045, 172.98899631619722, 171.2300829660369, 171.7600764723803, 171.15894560780814, 172.2999306331501, 171.83028602099984, 171.32862238423687, 170.77936767894244, 172.36292504264466, 172.0627351161584, 172.4572213189606, 171.47259301389403, 172.70448049640206, 170.9033793774536, 171.4977384620653, 171.92281752488395, 172.86154988875325, 172.8406753273718, 171.93324378922023, 171.74883388697694, 171.98380721046607, 171.46917463958798, 172.6146893473156, 172.91164033636466, 173.15753287968465, 172.27759829362836, 171.6774296769677, 171.54975020959088, 171.18582241213085, 171.66755046501711, 172.41658296742696, 173.04107187033074, 172.82076706195545, 171.46704286023976, 172.96233338098062, 172.12934776128904, 172.08330964582936, 171.8006916652453, 172.34308489334754, 171.88215305794077, 171.1559085024102, 171.85364449530417, 172.93460329977185, 173.18000857755993, 171.63724982728382, 173.4162760941612, 171.45107342933244, 170.76490777374693, 171.6380925465537, 171.74032428812748, 173.80301248510375, 171.74462296299367, 173.6235349342996, 171.2647502513369, 172.06979893037817, 172.17030823278597, 170.44348581706814, 172.73644707827924, 172.19090153359073, 170.6578604779148, 172.10099771905325, 171.71531553821683, 171.97867899672087, 171.99897228560974, 172.4364591414134, 171.1243322935377, 172.03204756684772, 171.30211257997559, 172.00669486226315, 172.38311872523292, 171.33568707613824, 171.33985719376716, 171.95870433759694, 171.1496261610421, 172.5782952059696, 172.42033433556662, 171.54928742914416, 172.5723730532069, 171.56614037303956, 171.37921101331048, 171.52449936229027, 171.33306899210882, 171.82625547275902, 171.44376529985166, 171.9873267301407, 172.0094762498349, 172.81511936308092, 171.91731067977227, 172.0977196544409, 172.32574513267085, 172.60347671265737, 172.44053362590222, 170.7468452174613, 170.98868067184708, 171.84561306662016, 171.8761956044929, 173.16669451210873, 171.758230409592, 172.31744287207303, 172.26066373967592, 172.90387119314428, 172.1542094707465, 172.41611963294156, 170.69078115925237, 172.74649501887535, 171.07615434950935, 172.02698832176975, 172.00554677262645, 172.74745263250585, 171.65945615758167, 172.42931787037676, 171.31139266156774, 172.86340638614564, 172.63046912414976, 171.90607197945067, 170.72003646709956, 172.10949275660838, 171.45152053467376, 171.86770717358283, 171.39371405813117, 172.14407557961246, 171.86145845615715, 171.0643157579227, 171.11107165580725, 171.97515142159185, 172.2507452119935, 172.1856139091256, 172.4867254532553, 172.62914954558713, 172.8416069041034, 172.95766914878197, 173.10461610473183, 171.41466281567926, 171.89091850205338, 171.91765493682541, 171.3856728570194, 172.5580115051518, 170.83751768580808, 172.60219501605832, 171.7505797307657, 171.9617303911309, 171.84660491414547, 172.35776791909186, 171.2458779978962, 171.93438007088704, 171.8606276617006, 171.84556709017835, 171.44970933561854, 172.74576860936187, 170.38777847996414, 172.3466863540159, 172.8038464437931, 171.91877900815456, 172.66506616836838, 170.78590101157235, 172.11850648936783, 170.75665956609814, 171.7151020651713, 172.10742863250215, 172.51206031029852, 171.65287206192647, 172.55011484163367, 171.80014021314176, 171.68322902960838, 171.72240274574912, 171.58157929787114, 172.89233455637458, 171.35548749762108, 171.21277983252344, 172.50712890942086, 170.60810840182512, 172.58764074576774, 172.59321378019294, 172.75315782350623, 171.78472781834543, 170.56401239103522, 172.65025382629744, 172.50016154070934, 171.01133751509252, 171.89707218069572, 171.39777017939866, 171.5888706941444, 172.17453748533066, 172.5422328160275, 171.25478419429447, 171.48147133549224, 171.46642822745997, 171.58713991008008, 172.04420677191985, 172.82918744818838, 172.51828644828274, 172.5579170585349, 170.41746242201705, 172.21333956770403, 170.64348987977087, 172.4764043893837, 171.8229891306343, 170.67173816614144, 172.6966076913146, 171.6376245764548, 172.02274650961598, 172.59149521166134, 173.04572889665104, 171.42114339710554, 171.9158785872262, 172.52349847658462, 171.99752954585546, 172.6785554217261, 171.36004753537688, 171.60437385324246, 172.2211546793179, 171.55142175857543, 171.1090944569839, 171.0826709592788, 172.4930814954672, 171.0924260704737, 172.17588303663732, 172.3121000669372, 171.559746981286, 172.96717428468912, 170.9695688866329, 172.40049192809616, 172.8644173394355, 171.11341965338775, 170.43821023646333, 171.3745857265041, 172.38010537944785, 173.39919328106328, 172.57927553982918, 171.7523151509625, 171.92714893397323, 172.78806643087367]\n"
     ]
    }
   ],
   "source": [
    "# I expect the distribution would be narrower\n",
    "\n",
    "seed(47)\n",
    "# calculate daily means from the larger sample size here\n",
    "\n",
    "daily_mean_n50 = []\n",
    "\n",
    "for i in range(365):\n",
    "    daily_mean_n50.append(np.mean(townsfolk_sampler(50))) \n",
    "\n",
    "print(daily_mean_n50)"
   ]
  },
  {
   "cell_type": "code",
   "execution_count": 61,
   "metadata": {},
   "outputs": [
    {
     "data": {
      "image/png": "[encoded data removed]",
      "text/plain": [
       "<Figure size 432x288 with 1 Axes>"
      ]
     },
     "metadata": {
      "needs_background": "light"
     },
     "output_type": "display_data"
    }
   ],
   "source": [
    "daily_mean_50_h = plt.hist(daily_mean_n50, bins = 25)\n",
    "daily_mean_50_h = plt.xlabel('distribution of mean (50 Daily sample)')\n"
   ]
  },
  {
   "cell_type": "markdown",
   "metadata": {},
   "source": [
    "What we've seen so far, then, is that we can estimate population parameters from a sample from the population, and that samples have their own distributions. Furthermore, the larger the sample size, the narrower are those sampling distributions."
   ]
  },
  {
   "cell_type": "markdown",
   "metadata": {},
   "source": [
    "### III Normally testing times!"
   ]
  },
  {
   "cell_type": "markdown",
   "metadata": {},
   "source": [
    "All of the above is well and good. We've been sampling from a population we know is normally distributed, we've come to understand when to use $n$ and when to use $n-1$ in the denominator to calculate the spread of a distribution, and we've  seen the Central Limit Theorem in action for a sampling distribution. All seems very well behaved in Frequentist land. But, well, why should we really care?"
   ]
  },
  {
   "cell_type": "markdown",
   "metadata": {},
   "source": [
    "Remember, we rarely (if ever) actually know our population parameters but you still have to estimate them somehow. If we want to make inferences such as \"is this observation unusual?\" or \"has my population mean changed?\" then you need to have some idea of what the underlying distribution is so you can calculate relevant probabilities. In frequentist inference, you use the formulas above to deduce these population parameters. Take a moment in the next part of this assignment to refresh your understanding of how these probabilities work."
   ]
  },
  {
   "cell_type": "markdown",
   "metadata": {},
   "source": [
    "Recall some basic properties of the standard Normal distribution, such as about 68% of observations being within plus or minus 1 standard deviation of the mean.\n",
    "\n",
    "__Q:__ Using this fact, calculate the probability of observing the value 1 or less in a single observation from the standard normal distribution. Hint: you may find it helpful to sketch the standard normal distribution (the familiar bell shape) and mark the number of standard deviations from the mean on the x-axis and shade the regions of the curve that contain certain percentages of the population."
   ]
  },
  {
   "cell_type": "markdown",
   "metadata": {},
   "source": [
    "__A:__"
   ]
  },
  {
   "cell_type": "code",
   "execution_count": 68,
   "metadata": {},
   "outputs": [
    {
     "data": {
      "text/plain": [
       "0.8400000000000001"
      ]
     },
     "execution_count": 68,
     "metadata": {},
     "output_type": "execute_result"
    }
   ],
   "source": [
    "(1+.68)/2"
   ]
  },
  {
   "cell_type": "markdown",
   "metadata": {},
   "source": [
    "Calculating this probability involved calculating the area under the pdf from the value of 1 and below. To put it another way, we need to integrate the pdf. We could just add together the known areas of chunks (from -Inf to 0 and then 0 to $+\\sigma$ in the example above. One way to do this is using look up tables (literally). Fortunately, scipy has this functionality built in with the cdf() function."
   ]
  },
  {
   "cell_type": "markdown",
   "metadata": {},
   "source": [
    "__Q:__ Use the cdf() function to answer the question above again and verify you get the same answer."
   ]
  },
  {
   "cell_type": "markdown",
   "metadata": {},
   "source": [
    "__A:__"
   ]
  },
  {
   "cell_type": "code",
   "execution_count": 69,
   "metadata": {},
   "outputs": [
    {
     "data": {
      "text/plain": [
       "0.8413447460685429"
      ]
     },
     "execution_count": 69,
     "metadata": {},
     "output_type": "execute_result"
    }
   ],
   "source": [
    "norm.cdf(1, loc = 0, scale = 1)"
   ]
  },
  {
   "cell_type": "markdown",
   "metadata": {},
   "source": [
    "__Q:__ Using our knowledge of the population parameters for our townsfolk's heights, what is the probability of selecting one person at random and their height being 177 cm or less? Calculate this using both of the approaches given above."
   ]
  },
  {
   "cell_type": "markdown",
   "metadata": {},
   "source": [
    "__A:__"
   ]
  },
  {
   "cell_type": "code",
   "execution_count": 72,
   "metadata": {},
   "outputs": [
    {
     "data": {
      "text/plain": [
       "0.8413447460685429"
      ]
     },
     "execution_count": 72,
     "metadata": {},
     "output_type": "execute_result"
    }
   ],
   "source": [
    "norm.cdf(177, loc = 172, scale = 5)"
   ]
  },
  {
   "cell_type": "markdown",
   "metadata": {},
   "source": [
    "__Q:__ Turning this question around. Let's say we randomly pick one person and measure their height and find they are 2.00 m tall? How surprised should we be at this result, given what we know about the population distribution? In other words, how likely would it be to obtain a value at least as extreme as this? Express this as a probability."
   ]
  },
  {
   "cell_type": "markdown",
   "metadata": {},
   "source": [
    "__A:__"
   ]
  },
  {
   "cell_type": "code",
   "execution_count": 73,
   "metadata": {},
   "outputs": [
    {
     "data": {
      "text/plain": [
       "1.0717590259723409e-08"
      ]
     },
     "execution_count": 73,
     "metadata": {},
     "output_type": "execute_result"
    }
   ],
   "source": [
    "# that would be quite extreme. The p-value is calculated as below for at least 200cm or taller\n",
    "1-norm.cdf(200, loc = 172, scale = 5)\n"
   ]
  },
  {
   "cell_type": "markdown",
   "metadata": {},
   "source": [
    "We could calculate this probability by virtue of knowing the population parameters. We were then able to use the known properties of the relevant normal distribution to calculate the probability of observing a value at least as extreme as our test value. We have essentially just performed a z-test (albeit without having prespecified a threshold for our \"level of surprise\")!"
   ]
  },
  {
   "cell_type": "markdown",
   "metadata": {},
   "source": [
    "We're about to come to a pinch, though here. We've said a couple of times that we rarely, if ever, know the true population parameters; we have to estimate them from our sample and we cannot even begin to estimate the standard deviation from a single observation. This is very true and usually we have sample sizes larger than one. This means we can calculate the mean of the sample as our best estimate of the population mean and the standard deviation as our best estimate of the population standard deviation. In other words, we are now coming to deal with the sampling distributions we mentioned above as we are generally concerned with the properties of the sample means we obtain.\n",
    "\n",
    "Above, we highlighted one result from the CLT, whereby the sampling distribution (of the mean) becomes narrower and narrower with the square root of the sample size. We remind ourselves that another result from the CLT is that _even if the underlying population distribution is not normal, the sampling distribution will tend to become normal with sufficiently large sample size_. This is the key driver for us 'requiring' a certain sample size, for example you may frequently see a minimum sample size of 30 stated in many places. In reality this is simply a rule of thumb; if the underlying distribution is approximately normal then your sampling distribution will already be pretty normal, but if the underlying distribution is heavily skewed then you'd want to increase your sample size."
   ]
  },
  {
   "cell_type": "markdown",
   "metadata": {},
   "source": [
    "__Q:__ Let's now start from the position of knowing nothing about the heights of people in our town.\n",
    "* Use our favorite random seed of 47, to randomly sample the heights of 50 townsfolk\n",
    "* Estimate the population mean using np.mean\n",
    "* Estimate the population standard deviation using np.std (remember which denominator to use!)\n",
    "* Calculate the (95%) [margin of error](https://www.statisticshowto.datasciencecentral.com/probability-and-statistics/hypothesis-testing/margin-of-error/#WhatMofE) (use the exact critial z value to 2 decimal places - [look this up](https://www.statisticshowto.datasciencecentral.com/probability-and-statistics/find-critical-values/) or use norm.ppf())\n",
    "* Calculate the 95% Confidence Interval of the mean\n",
    "* Does this interval include the true population mean?"
   ]
  },
  {
   "cell_type": "markdown",
   "metadata": {},
   "source": [
    "__A:__"
   ]
  },
  {
   "cell_type": "code",
   "execution_count": 74,
   "metadata": {},
   "outputs": [
    {
     "name": "stdout",
     "output_type": "stream",
     "text": [
      "[179.04949004 168.54189384 181.71974048 176.56433733 165.91968052\n",
      " 170.65629646 179.37664509 166.40103988 177.15105034 169.41097044\n",
      " 169.96353026 175.15960886 177.08203296 175.57499516 174.54290109\n",
      " 172.47967099 168.61822612 174.73274884 170.88926244 178.27468993\n",
      " 171.52874629 173.48970606 172.0752456  172.29707499 171.58202648\n",
      " 169.84480352 178.67104246 174.28346436 174.29645483 167.42082214\n",
      " 168.57939161 169.54392578 167.58621293 176.8657094  164.25755366\n",
      " 177.38929575 171.97964488 164.94136054 177.90675289 175.2758845\n",
      " 176.64336688 169.68013675 175.41851966 171.9408919  179.69843965\n",
      " 169.93651872 169.3320981  172.17010876 171.18783138 171.14370134]\n"
     ]
    }
   ],
   "source": [
    "seed(47)\n",
    "# take your sample now\n",
    "twn_sample = townsfolk_sampler(50)\n",
    "print(twn_sample)"
   ]
  },
  {
   "cell_type": "code",
   "execution_count": 75,
   "metadata": {},
   "outputs": [],
   "source": [
    "est_mean = np.mean(twn_sample)"
   ]
  },
  {
   "cell_type": "code",
   "execution_count": 81,
   "metadata": {},
   "outputs": [
    {
     "name": "stdout",
     "output_type": "stream",
     "text": [
      "4.195424364433547\n"
     ]
    }
   ],
   "source": [
    "est_s = np.std(twn_sample, ddof = 1)\n",
    "print(est_s)"
   ]
  },
  {
   "cell_type": "code",
   "execution_count": 84,
   "metadata": {},
   "outputs": [
    {
     "name": "stdout",
     "output_type": "stream",
     "text": [
      "1.162912303074119\n"
     ]
    }
   ],
   "source": [
    "mar_err = est_s/np.sqrt(50) * 1.96\n",
    "print(mar_err)"
   ]
  },
  {
   "cell_type": "code",
   "execution_count": 85,
   "metadata": {},
   "outputs": [
    {
     "name": "stdout",
     "output_type": "stream",
     "text": [
      "The 95% confidence interval for the mean is from 171.6185985546047 to 171.6185985546047\n"
     ]
    }
   ],
   "source": [
    "ci_mu_u = est_mean + mar_err\n",
    "ci_mu_l = est_mean - mar_err\n",
    "print('The 95% confidence interval for the mean is from', ci_mu_l, 'to', ci_mu_l)"
   ]
  },
  {
   "cell_type": "markdown",
   "metadata": {},
   "source": [
    "__Q:__ Above we calculated the confidence interval using the critical z value. What is the problem with this? What requirement, or requirements, are we (strictly) failing?"
   ]
  },
  {
   "cell_type": "markdown",
   "metadata": {},
   "source": [
    "__A:__ We don't have a large sample size and we don't know the True mean of the population distribution."
   ]
  },
  {
   "cell_type": "markdown",
   "metadata": {},
   "source": [
    "__Q:__ Calculate the 95% confidence interval for the mean using the _t_ distribution. Is this wider or narrower than that based on the normal distribution above? If you're unsure, you may find this [resource](https://www.statisticshowto.datasciencecentral.com/probability-and-statistics/confidence-interval/) useful. For calculating the critical value, remember how you could calculate this for the normal distribution using norm.ppf()."
   ]
  },
  {
   "cell_type": "markdown",
   "metadata": {},
   "source": [
    "__A:__"
   ]
  },
  {
   "cell_type": "code",
   "execution_count": 95,
   "metadata": {},
   "outputs": [
    {
     "name": "stdout",
     "output_type": "stream",
     "text": [
      "The 95% confidence interval under a t-distribution for the mean is from 171.589184447403 to 173.9738372679546\n"
     ]
    }
   ],
   "source": [
    "alpha = t.ppf(.975, 49)\n",
    "tci_u = est_mean + alpha * est_s/np.sqrt(50)\n",
    "tci_l = est_mean - alpha * est_s/np.sqrt(50)\n",
    "\n",
    "print('The 95% confidence interval under a t-distribution for the mean is from', tci_l, 'to', tci_u)"
   ]
  },
  {
   "cell_type": "code",
   "execution_count": null,
   "metadata": {},
   "outputs": [],
   "source": [
    "# The confidence interval seems to be wider using a t-distribution"
   ]
  },
  {
   "cell_type": "code",
   "execution_count": null,
   "metadata": {},
   "outputs": [],
   "source": []
  },
  {
   "cell_type": "markdown",
   "metadata": {},
   "source": [
    "This is slightly wider than the previous confidence interval. This reflects the greater uncertainty given that we are estimating population parameters from a sample."
   ]
  },
  {
   "cell_type": "markdown",
   "metadata": {},
   "source": [
    "## Learning outcomes"
   ]
  },
  {
   "cell_type": "markdown",
   "metadata": {},
   "source": [
    "Having completed this project notebook, you now have hands-on experience:\n",
    "* sampling and calculating probabilities from a normal distribution\n",
    "* the correct way to estimate the standard deviation of a population (the population parameter) from a sample\n",
    "* what a sampling distribution is and how the Central Limit Theorem applies\n",
    "* how to calculate critical values and confidence intervals"
   ]
  }
 ],
 "metadata": {
  "kernelspec": {
   "display_name": "Python 3",
   "language": "python",
   "name": "python3"
  },
  "language_info": {
   "codemirror_mode": {
    "name": "ipython",
    "version": 3
   },
   "file_extension": ".py",
   "mimetype": "text/x-python",
   "name": "python",
   "nbconvert_exporter": "python",
   "pygments_lexer": "ipython3",
   "version": "3.7.6"
  }
 },
 "nbformat": 4,
 "nbformat_minor": 2
}
